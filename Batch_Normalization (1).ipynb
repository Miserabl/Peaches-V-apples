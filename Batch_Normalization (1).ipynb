{
  "nbformat": 4,
  "nbformat_minor": 0,
  "metadata": {
    "colab": {
      "name": "Batch Normalization.ipynb",
      "provenance": []
    },
    "kernelspec": {
      "name": "python3",
      "display_name": "Python 3"
    },
    "accelerator": "GPU"
  },
  "cells": [
    {
      "cell_type": "code",
      "metadata": {
        "id": "rmXPtDVp_9tA"
      },
      "source": [
        "import matplotlib\r\n",
        "import matplotlib.pyplot as plt\r\n",
        "matplotlib.use(\"Agg\")\r\n",
        "# import the necessary packages\r\n",
        "from sklearn.preprocessing import LabelBinarizer\r\n",
        "from sklearn.model_selection import train_test_split\r\n",
        "from sklearn.metrics import classification_report\r\n",
        "from tensorflow.keras.models import Sequential\r\n",
        "from tensorflow.keras.layers import Dense\r\n",
        "from tensorflow.keras.optimizers import SGD\r\n",
        "from imutils import paths\r\n",
        "import matplotlib.pyplot as plt\r\n",
        "import numpy as np\r\n",
        "import argparse\r\n",
        "import random\r\n",
        "import pickle\r\n",
        "import cv2\r\n",
        "import os\r\n",
        "from google.colab import drive\r\n",
        "from keras.preprocessing.image import ImageDataGenerator\r\n",
        "from tensorflow.keras.layers import Conv2D, MaxPooling2D, Dense, Flatten, Dropout,Activation, BatchNormalization\r\n",
        "import tensorflow as tf\r\n",
        "from tensorflow import keras\r\n",
        "from tensorflow.keras import layers\r\n",
        "%matplotlib inline"
      ],
      "execution_count": null,
      "outputs": []
    },
    {
      "cell_type": "code",
      "metadata": {
        "colab": {
          "base_uri": "https://localhost:8080/"
        },
        "id": "AcHPvhhYAA07",
        "outputId": "870161f0-61ce-4d49-b0ab-0d5614e87166"
      },
      "source": [
        "drive.mount('/content/drive')"
      ],
      "execution_count": null,
      "outputs": [
        {
          "output_type": "stream",
          "text": [
            "Mounted at /content/drive\n"
          ],
          "name": "stdout"
        }
      ]
    },
    {
      "cell_type": "code",
      "metadata": {
        "colab": {
          "base_uri": "https://localhost:8080/"
        },
        "id": "cKgECYp6BLeX",
        "outputId": "7c5e7dd8-4602-4603-c94c-3c4e115929db"
      },
      "source": [
        "# create generator\r\n",
        "datagen = ImageDataGenerator()\r\n",
        "# prepare an iterators for each dataset\r\n",
        "train_it = datagen.flow_from_directory('/content/drive/MyDrive/Peaches V Apples', class_mode='binary')\r\n",
        "test_it = datagen.flow_from_directory('/content/drive/MyDrive/Kaggle/fruits-360/Test', class_mode='binary')\r\n",
        "# confirm the iterator works\r\n",
        "batchX, batchy = train_it.next()\r\n",
        "print('Batch shape=%s, min=%.3f, max=%.3f' % (batchX.shape, batchX.min(), batchX.max()))"
      ],
      "execution_count": null,
      "outputs": [
        {
          "output_type": "stream",
          "text": [
            "Found 8119 images belonging to 2 classes.\n",
            "Found 1855 images belonging to 2 classes.\n",
            "Batch shape=(32, 256, 256, 3), min=0.000, max=255.000\n"
          ],
          "name": "stdout"
        }
      ]
    },
    {
      "cell_type": "code",
      "metadata": {
        "id": "CyJ38g5zCHGv"
      },
      "source": [
        "def createModel():\r\n",
        "  model = Sequential()\r\n",
        "  model.add(Conv2D(32, (3, 3), input_shape=(256, 256, 3)))\r\n",
        "  model.add(Activation('relu'))\r\n",
        "  model.add(BatchNormalization())\r\n",
        "  model.add(Conv2D(32, (3, 3), input_shape=(256, 256, 3)))\r\n",
        "  model.add(Activation('relu'))\r\n",
        "  model.add(BatchNormalization())\r\n",
        "  model.add(MaxPooling2D(pool_size=(2, 2)))\r\n",
        "\r\n",
        "\r\n",
        "  model.add(Conv2D(32, (3, 3)))\r\n",
        "  model.add(Activation('relu'))\r\n",
        "  model.add(BatchNormalization())\r\n",
        "  model.add(Conv2D(32, (3, 3)))\r\n",
        "  model.add(Activation('relu'))\r\n",
        "  model.add(BatchNormalization())\r\n",
        "  model.add(Conv2D(32, (3, 3)))\r\n",
        "  model.add(Activation('relu'))\r\n",
        "  model.add(BatchNormalization())\r\n",
        "  model.add(MaxPooling2D(pool_size=(2, 2)))\r\n",
        "\r\n",
        "  model.add(Conv2D(64, (3, 3)))\r\n",
        "  model.add(Activation('relu'))\r\n",
        "  model.add(BatchNormalization())\r\n",
        "  model.add(Conv2D(64, (3, 3)))\r\n",
        "  model.add(Activation('relu'))\r\n",
        "  model.add(BatchNormalization())\r\n",
        "  model.add(MaxPooling2D(pool_size=(2, 2)))\r\n",
        "  model.add(Flatten())  # this converts our 3D feature maps to 1D feature vectors\r\n",
        "  model.add(Dense(64))\r\n",
        "  model.add(Activation('relu'))\r\n",
        "  model.add(Dropout(0.5))\r\n",
        "  model.add(Dense(1))\r\n",
        "  model.add(Activation('sigmoid'))\r\n",
        "\r\n",
        "\r\n",
        "  return model"
      ],
      "execution_count": null,
      "outputs": []
    },
    {
      "cell_type": "code",
      "metadata": {
        "id": "cQqdtFuyHZ1N"
      },
      "source": [
        "\r\n",
        "model = createModel()\r\n",
        "optimizer = tf.keras.optimizers.RMSprop(learning_rate=0.0001)\r\n",
        "\r\n",
        "model.compile(loss='binary_crossentropy',\r\n",
        "              optimizer= optimizer,\r\n",
        "              metrics=['accuracy'])\r\n"
      ],
      "execution_count": null,
      "outputs": []
    },
    {
      "cell_type": "code",
      "metadata": {
        "id": "jtN8q1l6LaMn",
        "colab": {
          "base_uri": "https://localhost:8080/"
        },
        "outputId": "c44eefe3-3649-4452-d09c-505e9129e8ad"
      },
      "source": [
        "history = model.fit_generator(train_it, steps_per_epoch=16, epochs = 15)\r\n",
        "\r\n"
      ],
      "execution_count": null,
      "outputs": [
        {
          "output_type": "stream",
          "text": [
            "/usr/local/lib/python3.6/dist-packages/tensorflow/python/keras/engine/training.py:1844: UserWarning: `Model.fit_generator` is deprecated and will be removed in a future version. Please use `Model.fit`, which supports generators.\n",
            "  warnings.warn('`Model.fit_generator` is deprecated and '\n"
          ],
          "name": "stderr"
        },
        {
          "output_type": "stream",
          "text": [
            "Epoch 1/15\n",
            "16/16 [==============================] - 151s 9s/step - loss: 0.8400 - accuracy: 0.8270\n",
            "Epoch 2/15\n",
            "16/16 [==============================] - 139s 9s/step - loss: 0.0793 - accuracy: 0.9821\n",
            "Epoch 3/15\n",
            "16/16 [==============================] - 131s 8s/step - loss: 0.0361 - accuracy: 0.9819\n",
            "Epoch 4/15\n",
            "16/16 [==============================] - 118s 7s/step - loss: 0.0202 - accuracy: 0.9878\n",
            "Epoch 5/15\n",
            "16/16 [==============================] - 113s 7s/step - loss: 0.0037 - accuracy: 1.0000\n",
            "Epoch 6/15\n",
            "16/16 [==============================] - 103s 6s/step - loss: 0.0066 - accuracy: 0.9983\n",
            "Epoch 7/15\n",
            "16/16 [==============================] - 93s 6s/step - loss: 0.0064 - accuracy: 0.9933\n",
            "Epoch 8/15\n",
            "16/16 [==============================] - 86s 5s/step - loss: 0.0102 - accuracy: 0.9964\n",
            "Epoch 9/15\n",
            "16/16 [==============================] - 84s 5s/step - loss: 0.0139 - accuracy: 0.9929\n",
            "Epoch 10/15\n",
            "16/16 [==============================] - 78s 5s/step - loss: 0.0034 - accuracy: 0.9987\n",
            "Epoch 11/15\n",
            "16/16 [==============================] - 72s 5s/step - loss: 6.4086e-05 - accuracy: 1.0000\n",
            "Epoch 12/15\n",
            "16/16 [==============================] - 66s 4s/step - loss: 0.0013 - accuracy: 0.9993\n",
            "Epoch 13/15\n",
            "16/16 [==============================] - 64s 4s/step - loss: 0.0049 - accuracy: 0.9970\n",
            "Epoch 14/15\n",
            "16/16 [==============================] - 60s 4s/step - loss: 0.0015 - accuracy: 0.9998\n",
            "Epoch 15/15\n",
            "16/16 [==============================] - 52s 3s/step - loss: 8.3603e-05 - accuracy: 1.0000\n"
          ],
          "name": "stdout"
        }
      ]
    },
    {
      "cell_type": "code",
      "metadata": {
        "id": "pQMb21neWtIv",
        "colab": {
          "base_uri": "https://localhost:8080/"
        },
        "outputId": "3f047481-19d4-41b8-8363-45f31a757b1a"
      },
      "source": [
        "!mkdir -p saved_model\r\n",
        "model.save('/content/drive/MyDrive/my_model')"
      ],
      "execution_count": null,
      "outputs": [
        {
          "output_type": "stream",
          "text": [
            "INFO:tensorflow:Assets written to: /content/drive/MyDrive/my_model/assets\n"
          ],
          "name": "stdout"
        }
      ]
    },
    {
      "cell_type": "code",
      "metadata": {
        "colab": {
          "base_uri": "https://localhost:8080/",
          "height": 265
        },
        "id": "uYOqCpiLktCr",
        "outputId": "fa32fc31-1b3d-4829-fbef-9eece856a510"
      },
      "source": [
        "plt.plot(history.history['loss'])\r\n",
        "plt.show()"
      ],
      "execution_count": null,
      "outputs": [
        {
          "output_type": "display_data",
          "data": {
            "image/png": "[encoded data removed]",
            "text/plain": [
              "<Figure size 432x288 with 1 Axes>"
            ]
          },
          "metadata": {
            "tags": [],
            "needs_background": "light"
          }
        }
      ]
    },
    {
      "cell_type": "code",
      "metadata": {
        "colab": {
          "base_uri": "https://localhost:8080/",
          "height": 265
        },
        "id": "NEkr_QYDmW4x",
        "outputId": "ce4d33c4-d4a9-4700-9460-0d8fdd5fb9c8"
      },
      "source": [
        "plt.plot(history.history['accuracy'])\r\n",
        "plt.show()"
      ],
      "execution_count": null,
      "outputs": [
        {
          "output_type": "display_data",
          "data": {
            "image/png": "[encoded data removed]",
            "text/plain": [
              "<Figure size 432x288 with 1 Axes>"
            ]
          },
          "metadata": {
            "tags": [],
            "needs_background": "light"
          }
        }
      ]
    },
    {
      "cell_type": "code",
      "metadata": {
        "id": "YX5IUroRsKIm",
        "colab": {
          "base_uri": "https://localhost:8080/"
        },
        "outputId": "0f985af9-4271-4b79-b56c-ac5494ebc08b"
      },
      "source": [
        "test = model.evaluate(test_it)"
      ],
      "execution_count": null,
      "outputs": [
        {
          "output_type": "stream",
          "text": [
            "58/58 [==============================] - 490s 9s/step - loss: 0.0959 - accuracy: 0.9720\n"
          ],
          "name": "stdout"
        }
      ]
    },
    {
      "cell_type": "code",
      "metadata": {
        "id": "fLdio6TFJCP2"
      },
      "source": [
        "# My accuracy increased from implementing batch_normalization, so now I want to apply my model to a harder problem such as MNIST as I have high accuracy on this question"
      ],
      "execution_count": null,
      "outputs": []
    },
    {
      "cell_type": "code",
      "metadata": {
        "id": "654_ygK2nuqc"
      },
      "source": [
        ""
      ],
      "execution_count": null,
      "outputs": []
    }
  ]
}
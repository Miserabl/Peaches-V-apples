{
  "nbformat": 4,
  "nbformat_minor": 0,
  "metadata": {
    "colab": {
      "name": "PVA learning_rate and epoch var.ipynb",
      "provenance": []
    },
    "kernelspec": {
      "name": "python3",
      "display_name": "Python 3"
    },
    "accelerator": "GPU"
  },
  "cells": [
    {
      "cell_type": "code",
      "metadata": {
        "id": "rmXPtDVp_9tA"
      },
      "source": [
        "import matplotlib\r\n",
        "import matplotlib.pyplot as plt\r\n",
        "matplotlib.use(\"Agg\")\r\n",
        "# import the necessary packages\r\n",
        "from sklearn.preprocessing import LabelBinarizer\r\n",
        "from sklearn.model_selection import train_test_split\r\n",
        "from sklearn.metrics import classification_report\r\n",
        "from tensorflow.keras.models import Sequential\r\n",
        "from tensorflow.keras.layers import Dense\r\n",
        "from tensorflow.keras.optimizers import SGD\r\n",
        "from imutils import paths\r\n",
        "import matplotlib.pyplot as plt\r\n",
        "import numpy as np\r\n",
        "import argparse\r\n",
        "import random\r\n",
        "import pickle\r\n",
        "import cv2\r\n",
        "import os\r\n",
        "from google.colab import drive\r\n",
        "from keras.preprocessing.image import ImageDataGenerator\r\n",
        "from tensorflow.keras.layers import Conv2D, MaxPooling2D, Dense, Flatten, Dropout,Activation\r\n",
        "import tensorflow as tf\r\n",
        "from tensorflow import keras\r\n",
        "from tensorflow.keras import layers\r\n",
        "%matplotlib inline"
      ],
      "execution_count": null,
      "outputs": []
    },
    {
      "cell_type": "code",
      "metadata": {
        "colab": {
          "base_uri": "https://localhost:8080/"
        },
        "id": "AcHPvhhYAA07",
        "outputId": "48f04722-19a0-4c37-e683-af8f97672922"
      },
      "source": [
        "drive.mount('/content/drive')"
      ],
      "execution_count": null,
      "outputs": [
        {
          "output_type": "stream",
          "text": [
            "Mounted at /content/drive\n"
          ],
          "name": "stdout"
        }
      ]
    },
    {
      "cell_type": "code",
      "metadata": {
        "colab": {
          "base_uri": "https://localhost:8080/"
        },
        "id": "cKgECYp6BLeX",
        "outputId": "d7495801-a728-43ee-8981-e1a796e2995f"
      },
      "source": [
        "# create generator\r\n",
        "datagen = ImageDataGenerator()\r\n",
        "# prepare an iterators for each dataset\r\n",
        "train_it = datagen.flow_from_directory('/content/drive/MyDrive/Peaches V Apples', class_mode='binary')\r\n",
        "test_it = datagen.flow_from_directory('/content/drive/MyDrive/Kaggle/fruits-360/Test', class_mode='binary')\r\n",
        "# confirm the iterator works\r\n",
        "batchX, batchy = train_it.next()\r\n",
        "print('Batch shape=%s, min=%.3f, max=%.3f' % (batchX.shape, batchX.min(), batchX.max()))"
      ],
      "execution_count": null,
      "outputs": [
        {
          "output_type": "stream",
          "text": [
            "Found 8119 images belonging to 2 classes.\n",
            "Found 1855 images belonging to 2 classes.\n",
            "Batch shape=(32, 256, 256, 3), min=0.000, max=255.000\n"
          ],
          "name": "stdout"
        }
      ]
    },
    {
      "cell_type": "code",
      "metadata": {
        "id": "CyJ38g5zCHGv"
      },
      "source": [
        "def createModel():\r\n",
        "  model = Sequential()\r\n",
        "  model.add(Conv2D(32, (3, 3), input_shape=(256, 256, 3)))\r\n",
        "  model.add(Activation('relu'))\r\n",
        "  model.add(MaxPooling2D(pool_size=(2, 2)))\r\n",
        "\r\n",
        "  model.add(Conv2D(32, (3, 3)))\r\n",
        "  model.add(Activation('relu'))\r\n",
        "  model.add(MaxPooling2D(pool_size=(2, 2)))\r\n",
        "\r\n",
        "  model.add(Conv2D(64, (3, 3)))\r\n",
        "  model.add(Activation('relu'))\r\n",
        "  model.add(MaxPooling2D(pool_size=(2, 2)))\r\n",
        "  model.add(Flatten())  # this converts our 3D feature maps to 1D feature vectors\r\n",
        "  model.add(Dense(64))\r\n",
        "  model.add(Activation('relu'))\r\n",
        "  model.add(Dropout(0.5))\r\n",
        "  model.add(Dense(1))\r\n",
        "  model.add(Activation('sigmoid'))\r\n",
        "\r\n",
        "\r\n",
        "  return model"
      ],
      "execution_count": null,
      "outputs": []
    },
    {
      "cell_type": "code",
      "metadata": {
        "id": "cQqdtFuyHZ1N"
      },
      "source": [
        "\r\n",
        "model = createModel()\r\n",
        "optimizer = tf.keras.optimizers.RMSprop(learning_rate=0.0001)\r\n",
        "\r\n",
        "model.compile(loss='binary_crossentropy',\r\n",
        "              optimizer= optimizer,\r\n",
        "              metrics=['accuracy'])\r\n"
      ],
      "execution_count": null,
      "outputs": []
    },
    {
      "cell_type": "code",
      "metadata": {
        "id": "jtN8q1l6LaMn",
        "colab": {
          "base_uri": "https://localhost:8080/"
        },
        "outputId": "1f6dadeb-ee9e-45a5-b9fa-7478efacfd4c"
      },
      "source": [
        "history = model.fit_generator(train_it, steps_per_epoch=16, epochs = 15)\r\n",
        "\r\n"
      ],
      "execution_count": null,
      "outputs": [
        {
          "output_type": "stream",
          "text": [
            "/usr/local/lib/python3.6/dist-packages/tensorflow/python/keras/engine/training.py:1844: UserWarning: `Model.fit_generator` is deprecated and will be removed in a future version. Please use `Model.fit`, which supports generators.\n",
            "  warnings.warn('`Model.fit_generator` is deprecated and '\n"
          ],
          "name": "stderr"
        },
        {
          "output_type": "stream",
          "text": [
            "Epoch 1/15\n",
            "16/16 [==============================] - 145s 9s/step - loss: 50.5126 - accuracy: 0.6619\n",
            "Epoch 2/15\n",
            "16/16 [==============================] - 129s 8s/step - loss: 4.1992 - accuracy: 0.7183\n",
            "Epoch 3/15\n",
            "16/16 [==============================] - 119s 7s/step - loss: 0.4221 - accuracy: 0.8253\n",
            "Epoch 4/15\n",
            "16/16 [==============================] - 112s 7s/step - loss: 0.8337 - accuracy: 0.7228\n",
            "Epoch 5/15\n",
            "16/16 [==============================] - 105s 7s/step - loss: 0.5524 - accuracy: 0.8039\n",
            "Epoch 6/15\n",
            "16/16 [==============================] - 101s 6s/step - loss: 0.5167 - accuracy: 0.7507\n",
            "Epoch 7/15\n",
            "16/16 [==============================] - 99s 6s/step - loss: 0.5787 - accuracy: 0.8094\n",
            "Epoch 8/15\n",
            "16/16 [==============================] - 85s 5s/step - loss: 0.3795 - accuracy: 0.7925\n",
            "Epoch 9/15\n",
            "16/16 [==============================] - 79s 5s/step - loss: 0.3745 - accuracy: 0.7542\n",
            "Epoch 10/15\n",
            "16/16 [==============================] - 72s 4s/step - loss: 0.3648 - accuracy: 0.7783\n",
            "Epoch 11/15\n",
            "16/16 [==============================] - 68s 4s/step - loss: 0.3964 - accuracy: 0.8189\n",
            "Epoch 12/15\n",
            "16/16 [==============================] - 66s 4s/step - loss: 0.4043 - accuracy: 0.9003\n",
            "Epoch 13/15\n",
            "16/16 [==============================] - 64s 4s/step - loss: 0.3571 - accuracy: 0.8796\n",
            "Epoch 14/15\n",
            "16/16 [==============================] - 65s 4s/step - loss: 0.2815 - accuracy: 0.9052\n",
            "Epoch 15/15\n",
            "16/16 [==============================] - 53s 3s/step - loss: 0.1492 - accuracy: 0.9474\n"
          ],
          "name": "stdout"
        }
      ]
    },
    {
      "cell_type": "code",
      "metadata": {
        "id": "pQMb21neWtIv",
        "colab": {
          "base_uri": "https://localhost:8080/"
        },
        "outputId": "ee7267a4-09cc-4cc3-f9a6-fea075a1de3d"
      },
      "source": [
        "!mkdir -p saved_model\r\n",
        "model.save('/content/drive/MyDrive/my_model')"
      ],
      "execution_count": null,
      "outputs": [
        {
          "output_type": "stream",
          "text": [
            "INFO:tensorflow:Assets written to: /content/drive/MyDrive/my_model/assets\n"
          ],
          "name": "stdout"
        }
      ]
    },
    {
      "cell_type": "code",
      "metadata": {
        "colab": {
          "base_uri": "https://localhost:8080/"
        },
        "id": "uYOqCpiLktCr",
        "outputId": "5c059c8a-956f-4a84-8a63-c780a4793f5e"
      },
      "source": [
        "test = model.evaluate(test_it)"
      ],
      "execution_count": null,
      "outputs": [
        {
          "output_type": "stream",
          "text": [
            "58/58 [==============================] - 428s 8s/step - loss: 0.1489 - accuracy: 0.9477\n"
          ],
          "name": "stdout"
        }
      ]
    },
    {
      "cell_type": "code",
      "metadata": {
        "colab": {
          "base_uri": "https://localhost:8080/"
        },
        "id": "vXtRQibwumGe",
        "outputId": "6a9b1a47-fde8-4c36-b88b-73105a4f1f8b"
      },
      "source": [
        "print(history.history.keys())"
      ],
      "execution_count": null,
      "outputs": [
        {
          "output_type": "stream",
          "text": [
            "dict_keys(['loss', 'accuracy'])\n"
          ],
          "name": "stdout"
        }
      ]
    },
    {
      "cell_type": "code",
      "metadata": {
        "colab": {
          "base_uri": "https://localhost:8080/",
          "height": 265
        },
        "id": "NEkr_QYDmW4x",
        "outputId": "2719654e-ca93-4a77-9cf4-b27bb9d5c839"
      },
      "source": [
        "plt.plot(history.history['accuracy'])\r\n",
        "plt.show()"
      ],
      "execution_count": null,
      "outputs": [
        {
          "output_type": "display_data",
          "data": {
            "image/png": "[encoded data removed]",
            "text/plain": [
              "<Figure size 432x288 with 1 Axes>"
            ]
          },
          "metadata": {
            "tags": [],
            "needs_background": "light"
          }
        }
      ]
    },
    {
      "cell_type": "code",
      "metadata": {
        "id": "YX5IUroRsKIm",
        "colab": {
          "base_uri": "https://localhost:8080/"
        },
        "outputId": "4632a93e-fdc4-49c5-a945-32aee5b30e67"
      },
      "source": [
        "print(test)"
      ],
      "execution_count": null,
      "outputs": [
        {
          "output_type": "stream",
          "text": [
            "[0.1488766372203827, 0.9477089047431946]\n"
          ],
          "name": "stdout"
        }
      ]
    },
    {
      "cell_type": "code",
      "metadata": {
        "id": "fLdio6TFJCP2"
      },
      "source": [
        "# My accuracy increased from changing the learning rate and epochs, so I want to try batch normalization next to bring it even higher"
      ],
      "execution_count": null,
      "outputs": []
    },
    {
      "cell_type": "code",
      "metadata": {
        "id": "654_ygK2nuqc"
      },
      "source": [
        ""
      ],
      "execution_count": null,
      "outputs": []
    }
  ]
}
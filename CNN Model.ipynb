{
  "nbformat": 4,
  "nbformat_minor": 0,
  "metadata": {
    "colab": {
      "name": "Untitled13.ipynb",
      "provenance": []
    },
    "kernelspec": {
      "name": "python3",
      "display_name": "Python 3"
    },
    "accelerator": "GPU"
  },
  "cells": [
    {
      "cell_type": "code",
      "metadata": {
        "id": "rmXPtDVp_9tA"
      },
      "source": [
        "\r\n",
        "\r\n",
        "import matplotlib.pyplot as plt\r\n",
        "matplotlib.use(\"Agg\")\r\n",
        "# import the necessary packages\r\n",
        "from sklearn.preprocessing import LabelBinarizer\r\n",
        "from sklearn.model_selection import train_test_split\r\n",
        "from sklearn.metrics import classification_report\r\n",
        "from tensorflow.keras.models import Sequential\r\n",
        "from tensorflow.keras.layers import Dense\r\n",
        "from tensorflow.keras.optimizers import SGD\r\n",
        "from imutils import paths\r\n",
        "import matplotlib.pyplot as plt\r\n",
        "import numpy as np\r\n",
        "import argparse\r\n",
        "import random\r\n",
        "import pickle\r\n",
        "import cv2\r\n",
        "import os\r\n",
        "from google.colab import drive\r\n",
        "from keras.preprocessing.image import ImageDataGenerator\r\n",
        "from tensorflow.keras.layers import Conv2D, MaxPooling2D, Dense, Flatten, Dropout,Activation\r\n",
        "import tensorflow as tf\r\n",
        "from tensorflow import keras\r\n",
        "from tensorflow.keras import layers\r\n",
        "%matplotlib inline"
      ],
      "execution_count": 27,
      "outputs": []
    },
    {
      "cell_type": "code",
      "metadata": {
        "colab": {
          "base_uri": "https://localhost:8080/"
        },
        "id": "AcHPvhhYAA07",
        "outputId": "891a33f3-d35e-4612-a394-2790b95de9a2"
      },
      "source": [
        "drive.mount('/content/drive')"
      ],
      "execution_count": 3,
      "outputs": [
        {
          "output_type": "stream",
          "text": [
            "Mounted at /content/drive\n"
          ],
          "name": "stdout"
        }
      ]
    },
    {
      "cell_type": "code",
      "metadata": {
        "colab": {
          "base_uri": "https://localhost:8080/"
        },
        "id": "cKgECYp6BLeX",
        "outputId": "ef6e997c-efa4-410d-c7ce-d68ef34a7806"
      },
      "source": [
        "# create generator\r\n",
        "datagen = ImageDataGenerator()\r\n",
        "# prepare an iterators for each dataset\r\n",
        "train_it = datagen.flow_from_directory('/content/drive/MyDrive/Peaches V Apples', class_mode='binary')\r\n",
        "test_it = datagen.flow_from_directory('/content/drive/MyDrive/Kaggle/fruits-360/Test', class_mode='binary')\r\n",
        "# confirm the iterator works\r\n",
        "batchX, batchy = train_it.next()\r\n",
        "print('Batch shape=%s, min=%.3f, max=%.3f' % (batchX.shape, batchX.min(), batchX.max()))"
      ],
      "execution_count": 4,
      "outputs": [
        {
          "output_type": "stream",
          "text": [
            "Found 8119 images belonging to 2 classes.\n",
            "Found 1855 images belonging to 2 classes.\n",
            "Batch shape=(32, 256, 256, 3), min=0.000, max=255.000\n"
          ],
          "name": "stdout"
        }
      ]
    },
    {
      "cell_type": "code",
      "metadata": {
        "id": "CyJ38g5zCHGv"
      },
      "source": [
        "def createModel():\r\n",
        "  model = Sequential()\r\n",
        "  model.add(Conv2D(32, (3, 3), input_shape=(256, 256, 3)))\r\n",
        "  model.add(Activation('relu'))\r\n",
        "  model.add(MaxPooling2D(pool_size=(2, 2)))\r\n",
        "\r\n",
        "  model.add(Conv2D(32, (3, 3)))\r\n",
        "  model.add(Activation('relu'))\r\n",
        "  model.add(MaxPooling2D(pool_size=(2, 2)))\r\n",
        "\r\n",
        "  model.add(Conv2D(64, (3, 3)))\r\n",
        "  model.add(Activation('relu'))\r\n",
        "  model.add(MaxPooling2D(pool_size=(2, 2)))\r\n",
        "  model.add(Flatten())  # this converts our 3D feature maps to 1D feature vectors\r\n",
        "  model.add(Dense(64))\r\n",
        "  model.add(Activation('relu'))\r\n",
        "  model.add(Dropout(0.5))\r\n",
        "  model.add(Dense(1))\r\n",
        "  model.add(Activation('sigmoid'))\r\n",
        "\r\n",
        "\r\n",
        "  return model"
      ],
      "execution_count": 5,
      "outputs": []
    },
    {
      "cell_type": "code",
      "metadata": {
        "id": "cQqdtFuyHZ1N"
      },
      "source": [
        "\r\n",
        "model = createModel()\r\n",
        "\r\n",
        "model.compile(loss='binary_crossentropy',\r\n",
        "              optimizer='rmsprop',\r\n",
        "              metrics=['accuracy'])\r\n"
      ],
      "execution_count": 6,
      "outputs": []
    },
    {
      "cell_type": "code",
      "metadata": {
        "colab": {
          "base_uri": "https://localhost:8080/",
          "height": 35
        },
        "id": "EHSiZQYKP6vo",
        "outputId": "68b1b533-7c55-4619-f932-179412d86a5c"
      },
      "source": [
        "tf.test.gpu_device_name()"
      ],
      "execution_count": 9,
      "outputs": [
        {
          "output_type": "execute_result",
          "data": {
            "application/vnd.google.colaboratory.intrinsic+json": {
              "type": "string"
            },
            "text/plain": [
              "'/device:GPU:0'"
            ]
          },
          "metadata": {
            "tags": []
          },
          "execution_count": 9
        }
      ]
    },
    {
      "cell_type": "code",
      "metadata": {
        "id": "jtN8q1l6LaMn",
        "colab": {
          "base_uri": "https://localhost:8080/"
        },
        "outputId": "1a2ee560-34e2-47f1-b6e1-5785edbc3bb4"
      },
      "source": [
        "with tf.device('/device:GPU:0'):\r\n",
        "  history = model.fit_generator(train_it, steps_per_epoch=16, epochs = 5)\r\n",
        "\r\n"
      ],
      "execution_count": 15,
      "outputs": [
        {
          "output_type": "stream",
          "text": [
            "/usr/local/lib/python3.6/dist-packages/tensorflow/python/keras/engine/training.py:1844: UserWarning: `Model.fit_generator` is deprecated and will be removed in a future version. Please use `Model.fit`, which supports generators.\n",
            "  warnings.warn('`Model.fit_generator` is deprecated and '\n"
          ],
          "name": "stderr"
        },
        {
          "output_type": "stream",
          "text": [
            "Epoch 1/5\n",
            "16/16 [==============================] - 168s 10s/step - loss: 0.3110 - accuracy: 0.8906\n",
            "Epoch 2/5\n",
            "16/16 [==============================] - 151s 9s/step - loss: 0.4918 - accuracy: 0.8945\n",
            "Epoch 3/5\n",
            "16/16 [==============================] - 147s 9s/step - loss: 5.2482 - accuracy: 0.7305\n",
            "Epoch 4/5\n",
            "16/16 [==============================] - 137s 8s/step - loss: 0.8160 - accuracy: 0.7305\n",
            "Epoch 5/5\n",
            "16/16 [==============================] - 128s 8s/step - loss: 0.4467 - accuracy: 0.8379\n"
          ],
          "name": "stdout"
        }
      ]
    },
    {
      "cell_type": "code",
      "metadata": {
        "id": "Ru1G8JyaZD3B",
        "colab": {
          "base_uri": "https://localhost:8080/",
          "height": 295
        },
        "outputId": "7fbce3b5-3212-42c0-93a8-109ee12fa76c"
      },
      "source": [
        "plt.plot(history.history['accuracy'], label='MAE (training data)')\r\n",
        "plt.title('Accuracy for Peaches V Apples')\r\n",
        "plt.ylabel('Accuracy')\r\n",
        "plt.xlabel('No. epoch')\r\n",
        "plt.legend(loc=\"upper left\")\r\n",
        "plt.show()"
      ],
      "execution_count": 30,
      "outputs": [
        {
          "output_type": "display_data",
          "data": {
            "image/png": "[encoded data removed]",
            "text/plain": [
              "<Figure size 432x288 with 1 Axes>"
            ]
          },
          "metadata": {
            "tags": [],
            "needs_background": "light"
          }
        }
      ]
    },
    {
      "cell_type": "code",
      "metadata": {
        "id": "pQMb21neWtIv",
        "colab": {
          "base_uri": "https://localhost:8080/"
        },
        "outputId": "9d7cb0be-2111-47c1-e6cf-c249982e2dab"
      },
      "source": [
        "test = model.evaluate(test_it)"
      ],
      "execution_count": 17,
      "outputs": [
        {
          "output_type": "stream",
          "text": [
            "58/58 [==============================] - 678s 12s/step - loss: 0.5860 - accuracy: 0.8097\n"
          ],
          "name": "stdout"
        }
      ]
    },
    {
      "cell_type": "code",
      "metadata": {
        "colab": {
          "base_uri": "https://localhost:8080/"
        },
        "id": "iCyulWCZOejT",
        "outputId": "041e2704-1c40-4ec6-e274-81197278da6f"
      },
      "source": [
        "print(test)"
      ],
      "execution_count": 18,
      "outputs": [
        {
          "output_type": "stream",
          "text": [
            "[0.5860278606414795, 0.809703528881073]\n"
          ],
          "name": "stdout"
        }
      ]
    },
    {
      "cell_type": "code",
      "metadata": {
        "id": "N5Z96We4UY-Y"
      },
      "source": [
        "# The next step is to improve the accuracy by trying the following things: Decreasing the learning rate because the accuracy is oscilatting, and increase epochs"
      ],
      "execution_count": 31,
      "outputs": []
    },
    {
      "cell_type": "code",
      "metadata": {
        "id": "vEbViAUtiHUY"
      },
      "source": [
        ""
      ],
      "execution_count": null,
      "outputs": []
    }
  ]
}